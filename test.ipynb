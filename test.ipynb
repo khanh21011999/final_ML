{
 "cells": [
  {
   "cell_type": "code",
   "execution_count": 2,
   "metadata": {
    "collapsed": true,
    "pycharm": {
     "name": "#%%\n"
    }
   },
   "outputs": [],
   "source": [
    "import cv2\n",
    "from keras.models import load_model \n",
    "import tensorflow as tf\n",
    "import numpy as np\n",
    "from PIL import Image\n"
   ]
  },
  {
   "cell_type": "code",
   "execution_count": null,
   "metadata": {},
   "outputs": [],
   "source": []
  },
  {
   "cell_type": "code",
   "execution_count": 3,
   "metadata": {
    "tags": []
   },
   "outputs": [
    {
     "output_type": "stream",
     "name": "stdout",
     "text": "WARNING:tensorflow:From <ipython-input-3-620b636d0751>:10: Sequential.predict_classes (from tensorflow.python.keras.engine.sequential) is deprecated and will be removed after 2021-01-01.\nInstructions for updating:\nPlease use instead:* `np.argmax(model.predict(x), axis=-1)`,   if your model does multi-class classification   (e.g. if it uses a `softmax` last-layer activation).* `(model.predict(x) > 0.5).astype(\"int32\")`,   if your model does binary classification   (e.g. if it uses a `sigmoid` last-layer activation).\n[14]\n"
    }
   ],
   "source": [
    "def prepare(filepath):\n",
    "    IMG_SIZE=30\n",
    "    img_array=cv2.imread(filepath)\n",
    "    #img_array=img_array/255 #use for 'trained-model_new.h5'\n",
    "    new_array= cv2.resize(img_array,(IMG_SIZE,IMG_SIZE))\n",
    "    return new_array.reshape(1,IMG_SIZE,IMG_SIZE,3)\n",
    "model=tf.keras.models.load_model('trained-model.h5',compile=False)\n",
    "\n",
    "#np.set_printoptions(formatter={'float_kind':'{:f}'.format})\n",
    "predict=model.predict_classes([prepare('st.jpg')])\n",
    "print(predict)\n"
   ]
  },
  {
   "cell_type": "code",
   "execution_count": 21,
   "metadata": {},
   "outputs": [
    {
     "output_type": "error",
     "ename": "SyntaxError",
     "evalue": "invalid syntax (<ipython-input-21-d5fa8dfb2ba6>, line 2)",
     "traceback": [
      "\u001b[1;36m  File \u001b[1;32m\"<ipython-input-21-d5fa8dfb2ba6>\"\u001b[1;36m, line \u001b[1;32m2\u001b[0m\n\u001b[1;33m    img=#YOUR IMAGE (Let's say it's 32,32,1)\u001b[0m\n\u001b[1;37m                                            ^\u001b[0m\n\u001b[1;31mSyntaxError\u001b[0m\u001b[1;31m:\u001b[0m invalid syntax\n"
     ]
    }
   ],
   "source": [
    "model = load_model('trained-model.h5')\n",
    "img=#YOUR IMAGE (Let's say it's 32,32,1)\n",
    "image_x = 30\n",
    "image_y = 30\n",
    "img = cv2.resize(img, (image_x, image_y))\n",
    "img = np.array(img, dtype=np.float32)\n",
    "img = np.reshape(img, (-1, image_x, image_y, 1))\n",
    "pred_probab = model.predict(img)"
   ]
  },
  {
   "cell_type": "code",
   "execution_count": null,
   "metadata": {},
   "outputs": [],
   "source": []
  }
 ],
 "metadata": {
  "kernelspec": {
   "name": "python3",
   "language": "python",
   "display_name": "Python 3"
  },
  "language_info": {
   "codemirror_mode": {
    "name": "ipython",
    "version": 2
   },
   "file_extension": ".py",
   "mimetype": "text/x-python",
   "name": "python",
   "nbconvert_exporter": "python",
   "pygments_lexer": "ipython2",
   "version": "3.7.7-final"
  }
 },
 "nbformat": 4,
 "nbformat_minor": 0
}